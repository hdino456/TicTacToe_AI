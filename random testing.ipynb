{
 "cells": [
  {
   "cell_type": "code",
   "execution_count": 22,
   "metadata": {},
   "outputs": [],
   "source": [
    "import numpy as np"
   ]
  },
  {
   "cell_type": "code",
   "execution_count": 23,
   "metadata": {},
   "outputs": [],
   "source": [
    "rewards = np.full((11,11),-100)\n",
    "rewards[0,5]=100"
   ]
  },
  {
   "cell_type": "code",
   "execution_count": 24,
   "metadata": {},
   "outputs": [],
   "source": [
    "aisles={}\n",
    "aisles[1] = [i for i in range(1, 10)]\n",
    "aisles[2] = [1, 7, 9]\n",
    "aisles[3] = [i for i in range(1, 8)]\n",
    "aisles[3].append(9)\n",
    "aisles[4] = [3, 7]\n",
    "aisles[5] = [i for i in range(11)]\n",
    "aisles[6] = [5]\n",
    "aisles[7] = [i for i in range(1, 10)]\n",
    "aisles[8] = [3, 7]\n",
    "aisles[9] = [i for i in range(11)]"
   ]
  },
  {
   "cell_type": "code",
   "execution_count": 25,
   "metadata": {},
   "outputs": [],
   "source": [
    "for row_index in range(1,10):\n",
    "    for column_index in aisles[row_index]:\n",
    "        rewards[row_index,column_index]=-1\n",
    "        "
   ]
  },
  {
   "cell_type": "code",
   "execution_count": 26,
   "metadata": {},
   "outputs": [
    {
     "data": {
      "text/plain": [
       "array([[-100, -100, -100, -100, -100,  100, -100, -100, -100, -100, -100],\n",
       "       [-100,   -1,   -1,   -1,   -1,   -1,   -1,   -1,   -1,   -1, -100],\n",
       "       [-100,   -1, -100, -100, -100, -100, -100,   -1, -100,   -1, -100],\n",
       "       [-100,   -1,   -1,   -1,   -1,   -1,   -1,   -1, -100,   -1, -100],\n",
       "       [-100, -100, -100,   -1, -100, -100, -100,   -1, -100, -100, -100],\n",
       "       [  -1,   -1,   -1,   -1,   -1,   -1,   -1,   -1,   -1,   -1,   -1],\n",
       "       [-100, -100, -100, -100, -100,   -1, -100, -100, -100, -100, -100],\n",
       "       [-100,   -1,   -1,   -1,   -1,   -1,   -1,   -1,   -1,   -1, -100],\n",
       "       [-100, -100, -100,   -1, -100, -100, -100,   -1, -100, -100, -100],\n",
       "       [  -1,   -1,   -1,   -1,   -1,   -1,   -1,   -1,   -1,   -1,   -1],\n",
       "       [-100, -100, -100, -100, -100, -100, -100, -100, -100, -100, -100]])"
      ]
     },
     "execution_count": 26,
     "metadata": {},
     "output_type": "execute_result"
    }
   ],
   "source": [
    "rewards"
   ]
  },
  {
   "cell_type": "code",
   "execution_count": 27,
   "metadata": {},
   "outputs": [
    {
     "data": {
      "text/plain": [
       "{1: [1, 2, 3, 4, 5, 6, 7, 8, 9],\n",
       " 2: [1, 7, 9],\n",
       " 3: [1, 2, 3, 4, 5, 6, 7, 9],\n",
       " 4: [3, 7],\n",
       " 5: [0, 1, 2, 3, 4, 5, 6, 7, 8, 9, 10],\n",
       " 6: [5],\n",
       " 7: [1, 2, 3, 4, 5, 6, 7, 8, 9],\n",
       " 8: [3, 7],\n",
       " 9: [0, 1, 2, 3, 4, 5, 6, 7, 8, 9, 10]}"
      ]
     },
     "execution_count": 27,
     "metadata": {},
     "output_type": "execute_result"
    }
   ],
   "source": [
    "aisles"
   ]
  },
  {
   "cell_type": "code",
   "execution_count": 28,
   "metadata": {},
   "outputs": [
    {
     "data": {
      "text/plain": [
       "array([[-100, -100, -100, -100, -100,  100, -100, -100, -100, -100, -100],\n",
       "       [-100,   -1,   -1,   -1,   -1,   -1,   -1,   -1,   -1,   -1, -100],\n",
       "       [-100,   -1, -100, -100, -100, -100, -100,   -1, -100,   -1, -100],\n",
       "       [-100,   -1,   -1,   -1,   -1,   -1,   -1,   -1, -100,   -1, -100],\n",
       "       [-100, -100, -100,   -1, -100, -100, -100,   -1, -100, -100, -100],\n",
       "       [  -1,   -1,   -1,   -1,   -1,   -1,   -1,   -1,   -1,   -1,   -1],\n",
       "       [-100, -100, -100, -100, -100,   -1, -100, -100, -100, -100, -100],\n",
       "       [-100,   -1,   -1,   -1,   -1,   -1,   -1,   -1,   -1,   -1, -100],\n",
       "       [-100, -100, -100,   -1, -100, -100, -100,   -1, -100, -100, -100],\n",
       "       [  -1,   -1,   -1,   -1,   -1,   -1,   -1,   -1,   -1,   -1,   -1],\n",
       "       [-100, -100, -100, -100, -100, -100, -100, -100, -100, -100, -100]])"
      ]
     },
     "execution_count": 28,
     "metadata": {},
     "output_type": "execute_result"
    }
   ],
   "source": [
    "rewards"
   ]
  }
 ],
 "metadata": {
  "kernelspec": {
   "display_name": "base",
   "language": "python",
   "name": "python3"
  },
  "language_info": {
   "codemirror_mode": {
    "name": "ipython",
    "version": 3
   },
   "file_extension": ".py",
   "mimetype": "text/x-python",
   "name": "python",
   "nbconvert_exporter": "python",
   "pygments_lexer": "ipython3",
   "version": "3.11.7"
  }
 },
 "nbformat": 4,
 "nbformat_minor": 2
}
